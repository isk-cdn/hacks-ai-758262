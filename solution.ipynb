{
 "cells": [
  {
   "cell_type": "code",
   "execution_count": 1,
   "id": "844d7a77",
   "metadata": {},
   "outputs": [],
   "source": [
    "import faiss\n",
    "import numpy as np\n",
    "import pandas as pd\n",
    "import ruclip\n",
    "import torch\n",
    "from tqdm import tqdm"
   ]
  },
  {
   "cell_type": "code",
   "execution_count": 2,
   "id": "5c67920d",
   "metadata": {},
   "outputs": [],
   "source": [
    "# Загрузка таблицы с данными книг и приведение пропусков к единому виду\n",
    "\n",
    "items = pd.read_csv('ds/items.csv', sep=';', index_col='sys_numb')\n",
    "items.replace({'отсутствует': '', 'none': '', '[б. и.]': '', np.nan: ''}, inplace=True)"
   ]
  },
  {
   "cell_type": "code",
   "execution_count": 3,
   "id": "db2e56ba",
   "metadata": {},
   "outputs": [
    {
     "name": "stderr",
     "output_type": "stream",
     "text": [
      "354355it [00:12, 29064.77it/s]\n"
     ]
    }
   ],
   "source": [
    "# Формирование словаря с данными книг для построения эмбеддингов\n",
    "   \n",
    "items_data = {}\n",
    "for _, item in tqdm(items.iterrows()):\n",
    "    if item['title'] == '':\n",
    "        continue\n",
    "    item_data = ' '.join([\n",
    "        item['title'],\n",
    "        item['author'].replace(', ', ' '),\n",
    "        item['year_izd'],\n",
    "        ' '.join(item['bbk'].split('\\n'))        \n",
    "    ])\n",
    "    item_data = item_data.replace('  ', ' ').replace('..', '').strip()\n",
    "    items_data[item.name] = item_data\n",
    "    \n",
    "item_ids = list(items_data.keys())\n",
    "item_titles = list(items_data.values())\n",
    "    \n",
    "item_ids = list(items_data.keys())\n",
    "item_titles = list(items_data.values())"
   ]
  },
  {
   "cell_type": "code",
   "execution_count": 4,
   "id": "08525ea7",
   "metadata": {},
   "outputs": [
    {
     "name": "stderr",
     "output_type": "stream",
     "text": [
      "100% 80/80 [14:46<00:00, 11.09s/it]\n"
     ]
    }
   ],
   "source": [
    "# Вычисление эмбеддингов книг с помощью модели RuClip\n",
    "\n",
    "batch_size = 4096  # для 16GB VRAM, необходимо уменьшить для GPU с меньшим количеством видеопамяти\n",
    "clip, processor = ruclip.load('ruclip-vit-base-patch32-224', device=\"cuda\")\n",
    "predictor = ruclip.Predictor(clip, processor, \"cuda\", bs=batch_size)\n",
    "\n",
    "\n",
    "def tokenize_titles_batch(titles_batch):\n",
    "    with torch.no_grad():\n",
    "        title_embeddings = predictor.get_text_latents(titles_batch)\n",
    "    return title_embeddings.cpu().numpy()\n",
    "\n",
    "\n",
    "item_embeddings = None\n",
    "for batch_number in tqdm(range(len(item_titles) // batch_size + 1)):\n",
    "    batch_embeddings = tokenize_titles_batch(item_titles[batch_number*batch_size:(batch_number + 1) * batch_size])\n",
    "    if item_embeddings is None:\n",
    "        item_embeddings = batch_embeddings\n",
    "    else:\n",
    "        item_embeddings = np.concatenate((item_embeddings, batch_embeddings), axis=0)\n",
    "        \n",
    "embeddings_dict = {item_ids[i]: item_embeddings[i] for i in range(len(item_embeddings))}\n",
    "items_ids = list(embeddings_dict.keys())"
   ]
  },
  {
   "cell_type": "code",
   "execution_count": 5,
   "id": "a85515d0",
   "metadata": {},
   "outputs": [],
   "source": [
    "# сохранение словаря эмбеддингов\n",
    "import pickle\n",
    "with open('item_embeddings_dump11.pkl', 'wb') as f:\n",
    "    pickle.dump(embeddings_dict, f)"
   ]
  },
  {
   "cell_type": "code",
   "execution_count": 6,
   "id": "47d7bc7a",
   "metadata": {},
   "outputs": [],
   "source": [
    "# Построение индекса эмбеддингов с помощью библиотеки FAISS\n",
    "items_embeddings = np.array(list(embeddings_dict.values())).astype(np.float32)\n",
    "faiss_index = faiss.index_factory(512, 'Flat', faiss.METRIC_INNER_PRODUCT)\n",
    "res = faiss.StandardGpuResources()\n",
    "gpu_faiss_index = faiss.index_cpu_to_gpu(res, 0, faiss_index)\n",
    "gpu_faiss_index.add(items_embeddings)"
   ]
  },
  {
   "cell_type": "code",
   "execution_count": 7,
   "id": "5fd13790",
   "metadata": {},
   "outputs": [
    {
     "name": "stderr",
     "output_type": "stream",
     "text": [
      "100% 507/507 [00:08<00:00, 61.16it/s]\n"
     ]
    }
   ],
   "source": [
    "# Поиск ближайших 20 соседей для каждой книги\n",
    "transactions = pd.read_csv('ds/train_transactions_extended.csv', sep=';', index_col=None, usecols={'sys_numb'})\n",
    "transactions = transactions['sys_numb'].tolist()\n",
    "\n",
    "recommendations = {}\n",
    "batch_size = 512\n",
    "for batch_number in tqdm(range(len(transactions) // batch_size + 1)):\n",
    "    batch = transactions[batch_number*batch_size:(batch_number+1)*batch_size]\n",
    "    embeddings = []\n",
    "    item_ids = []\n",
    "    for transaction_item_id in batch:\n",
    "        if transaction_item_id in embeddings_dict:\n",
    "            embeddings.append(embeddings_dict[transaction_item_id])\n",
    "            item_ids.append(transaction_item_id)\n",
    "\n",
    "    embeddings = np.array(embeddings)\n",
    "    distances, indexes = gpu_faiss_index.search(embeddings, 21)\n",
    "    for i, item_id in enumerate(item_ids):\n",
    "        recommendations[item_id] = [{items_ids[indexes[i][j]]: distances[i][j]} for j in range(1, len(indexes[i]))]"
   ]
  },
  {
   "cell_type": "code",
   "execution_count": 8,
   "id": "c87936de",
   "metadata": {},
   "outputs": [
    {
     "name": "stderr",
     "output_type": "stream",
     "text": [
      "100% 16753/16753 [00:17<00:00, 945.27it/s] \n"
     ]
    }
   ],
   "source": [
    "# Построение рекомендаций на основе top-20 ближайших соседей\n",
    "\n",
    "transactions = pd.read_csv(\n",
    "    'ds/train_transactions_extended.csv',\n",
    "    sep=';',\n",
    "    index_col=None,\n",
    "    usecols=('chb', 'sys_numb', 'date_1')\n",
    ")\n",
    "\n",
    "final_recommendations = []\n",
    "\n",
    "for user in tqdm(set(transactions['chb'].unique())):\n",
    "    user_transactions = transactions[transactions['chb'] == user].sort_values('date_1', ascending=False)\n",
    "    user_recommendations = {}\n",
    "    user_readed_books = set(user_transactions['chb'].to_list())\n",
    "    processed_books = set()\n",
    "    for _, transaction in user_transactions.iterrows():\n",
    "        book = transaction['sys_numb']\n",
    "        if book in processed_books:\n",
    "            continue\n",
    "        else:\n",
    "            processed_books.add(book)\n",
    "        nearest_books = recommendations.get(book, [])\n",
    "        for book in nearest_books:\n",
    "            book, similarity = tuple(book.items())[0]\n",
    "            if book not in user_recommendations:\n",
    "                user_recommendations[book] = similarity\n",
    "            else:\n",
    "                if user_recommendations[book] < similarity:\n",
    "                    user_recommendations[book] = similarity\n",
    "    \n",
    "    user_recommendations = [\n",
    "        k for k, v in sorted(\n",
    "            user_recommendations.items(),\n",
    "            key=lambda item: item[1],\n",
    "            reverse=True\n",
    "        ) if k not in user_readed_books\n",
    "    ]\n",
    "    \n",
    "    for recommendation in user_recommendations[:20]:\n",
    "        final_recommendations.append((user, recommendation))"
   ]
  },
  {
   "cell_type": "code",
   "execution_count": 9,
   "id": "d91da7d7",
   "metadata": {},
   "outputs": [],
   "source": [
    "# Запись решения в файл\n",
    "result = pd.DataFrame(final_recommendations)\n",
    "result.columns = ['chb', 'sys_numb']\n",
    "result.sort_values(by=['chb'], inplace=True)\n",
    "result.to_csv('solutions/solution11.csv', index=False, sep=';', line_terminator='\\n')"
   ]
  },
  {
   "cell_type": "code",
   "execution_count": null,
   "id": "8d6788ee",
   "metadata": {},
   "outputs": [],
   "source": []
  }
 ],
 "metadata": {
  "kernelspec": {
   "display_name": "Python 3 (ipykernel)",
   "language": "python",
   "name": "python3"
  },
  "language_info": {
   "codemirror_mode": {
    "name": "ipython",
    "version": 3
   },
   "file_extension": ".py",
   "mimetype": "text/x-python",
   "name": "python",
   "nbconvert_exporter": "python",
   "pygments_lexer": "ipython3",
   "version": "3.9.12"
  }
 },
 "nbformat": 4,
 "nbformat_minor": 5
}
